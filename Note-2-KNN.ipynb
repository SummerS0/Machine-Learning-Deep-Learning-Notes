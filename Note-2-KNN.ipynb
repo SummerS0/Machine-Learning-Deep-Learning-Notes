{
 "cells": [
  {
   "cell_type": "markdown",
   "metadata": {},
   "source": [
    "**KNN (K Nearest Neighbor)：** 分类器（是一个非常直观的分类器），输出离散结果。\n",
    "\n",
    "\n",
    "**如何工作：** 将目标归类到（距目标的）K个最近点中，概率高的那一类。\n",
    "\n",
    "**步骤：** 根据它的工作思路，可以看出KNN算法实现简单来说可分为两步：\n",
    "\n",
    "1）定义临近点 \n",
    "\n",
    "例如，可以用欧几里得距离（Euclidean distance)\n",
    "\n",
    "$d(\\vec x_i,\\vec x_j) = \\sqrt {\\sum_{n=1}^N (x_{in} - x_{jn})^2}$, n表示空间维度.\n",
    "\n",
    "2）统计临近点中出现概率较高的一类。\n",
    "\n",
    "\n",
    "**举例：**\n",
    "\n",
    "🌰-1：K=1\n",
    "\n",
    "如下图的情况，有一些已知数据被分类为了1，和0。现在有一个x需要被分类。KNN会如何对它进行分类呢。假设K=1, 并且将临近定义为欧几里得距离（euclidean distance Euclidean distance）。这时X的临近点为类0，X 就被分类0啦~\n",
    "<img src=\"k1.png\" alt=\"Drawing\" style=\"width: 500px;\"/>"
   ]
  },
  {
   "cell_type": "markdown",
   "metadata": {},
   "source": [
    "🌰-2：K=3\n",
    "\n",
    "K = 3 就是找三个跟X最靠近的点。这三个点里有2个0类，1个1类。所以X被归为0类。\n",
    "<img src=\"k3.png\" alt=\"Drawing\" style=\"width: 500px;\"/>"
   ]
  },
  {
   "cell_type": "code",
   "execution_count": null,
   "metadata": {
    "collapsed": true
   },
   "outputs": [],
   "source": []
  }
 ],
 "metadata": {
  "kernelspec": {
   "display_name": "Python 2",
   "language": "python",
   "name": "python2"
  },
  "language_info": {
   "codemirror_mode": {
    "name": "ipython",
    "version": 2
   },
   "file_extension": ".py",
   "mimetype": "text/x-python",
   "name": "python",
   "nbconvert_exporter": "python",
   "pygments_lexer": "ipython2",
   "version": "2.7.13"
  }
 },
 "nbformat": 4,
 "nbformat_minor": 2
}
